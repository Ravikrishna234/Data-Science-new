{
  "nbformat": 4,
  "nbformat_minor": 0,
  "metadata": {
    "colab": {
      "name": "2015Lab2",
      "version": "0.3.2",
      "provenance": []
    },
    "kernelspec": {
      "name": "python3",
      "display_name": "Python 3"
    }
  },
  "cells": [
    {
      "cell_type": "code",
      "metadata": {
        "id": "qL-xKmC9fTp9",
        "colab_type": "code",
        "colab": {}
      },
      "source": [
        "import requests\n",
        "from bs4 import BeautifulSoup\n",
        "from IPython.core.display import HTML\n",
        "import pandas as pd\n",
        "import numpy as np\n",
        "%matplotlib inline"
      ],
      "execution_count": 0,
      "outputs": []
    },
    {
      "cell_type": "code",
      "metadata": {
        "id": "80_QPF6JfpQg",
        "colab_type": "code",
        "colab": {}
      },
      "source": [
        "req = requests.get(\"https://en.wikipedia.org/wiki/Harvard_University\")\n",
        "req"
      ],
      "execution_count": 0,
      "outputs": []
    },
    {
      "cell_type": "code",
      "metadata": {
        "id": "h9b9YByqfwCF",
        "colab_type": "code",
        "colab": {}
      },
      "source": [
        "type(req)\n"
      ],
      "execution_count": 0,
      "outputs": []
    },
    {
      "cell_type": "code",
      "metadata": {
        "id": "GXPx1_NjosIV",
        "colab_type": "code",
        "colab": {}
      },
      "source": [
        "page = req.text\n",
        "page"
      ],
      "execution_count": 0,
      "outputs": []
    },
    {
      "cell_type": "code",
      "metadata": {
        "id": "F01K0H7to19E",
        "colab_type": "code",
        "colab": {}
      },
      "source": [
        "soup = BeautifulSoup(page, 'html.parser')\n",
        "soup\n",
        "type(page)\n",
        "type(soup)\n",
        "[t['class'] for t in soup.find_all('table') if t.get('class')]"
      ],
      "execution_count": 0,
      "outputs": []
    },
    {
      "cell_type": "code",
      "metadata": {
        "id": "KKHUWt4-pyIj",
        "colab_type": "code",
        "colab": {}
      },
      "source": [
        "table_html = str(soup.find(\"table\", \"wikitable\"))\n",
        "table_html\n",
        "HTML(table_html)"
      ],
      "execution_count": 0,
      "outputs": []
    },
    {
      "cell_type": "code",
      "metadata": {
        "id": "94QXu98mMqZm",
        "colab_type": "code",
        "colab": {}
      },
      "source": [
        "# Lambda expressions return the value of the expression inside it.\n",
        "# In this case, it will return a string with new line characters replaced by spaces.\n",
        "rem_nl = lambda s: s.replace(\"\\n\", \" \")"
      ],
      "execution_count": 0,
      "outputs": []
    },
    {
      "cell_type": "code",
      "metadata": {
        "id": "gT934uXS_giz",
        "colab_type": "code",
        "colab": {}
      },
      "source": [
        "row = [row for row in soup.find(\"table\", \"wikitable\").find_all('tr')[1:]]\n",
        "row[0]\n",
        "r = [rem_nl(r.get_text()) for r in row[0].find_all('th')]\n",
        "r"
      ],
      "execution_count": 0,
      "outputs": []
    },
    {
      "cell_type": "code",
      "metadata": {
        "id": "pJ5LcB36Cyd9",
        "colab_type": "code",
        "colab": {}
      },
      "source": [
        "def power(x):\n",
        "  return x**2\n",
        "print(power(5))"
      ],
      "execution_count": 0,
      "outputs": []
    },
    {
      "cell_type": "code",
      "metadata": {
        "id": "NL17xhUnDGz3",
        "colab_type": "code",
        "colab": {}
      },
      "source": [
        "def get_multiple(x, y=1):\n",
        "    return x*y\n",
        "\n",
        "print(\"With x and y: \", get_multiple(y=10, x=3))\n",
        "print(\"With x only: \", get_multiple(10))"
      ],
      "execution_count": 0,
      "outputs": []
    },
    {
      "cell_type": "code",
      "metadata": {
        "id": "Y68TPK9SDe66",
        "colab_type": "code",
        "colab": {}
      },
      "source": [
        "def print_special_greeting(name, leaving=False, condition=\"nice\"):\n",
        "    print(\"Hi\", name)\n",
        "    print(\"How are you doing in this\", condition, \"day?\")\n",
        "    if leaving:\n",
        "        print (\"Please come back!\")\n",
        "print_special_greeting(\"John\")\n",
        "print_special_greeting(\"John\", True, \"rainy\")\n",
        "print_special_greeting(\"John\", True)\n",
        "print_special_greeting(\"John\", condition=\"horrible\")"
      ],
      "execution_count": 0,
      "outputs": []
    },
    {
      "cell_type": "code",
      "metadata": {
        "id": "N6HuKLG1Fb60",
        "colab_type": "code",
        "colab": {}
      },
      "source": [
        "def print_siblings(name, *siblings):\n",
        "    print(name, \"has the following siblings:\")\n",
        "    for sibling in siblings:\n",
        "        print (sibling)\n",
        "    print()\n",
        "        \n",
        "print_siblings(\"John\", \"Ashley\", \"Lauren\", \"Arthur\")\n",
        "print_siblings(\"Mike\", \"John\")\n",
        "print_siblings(\"Terry\")"
      ],
      "execution_count": 0,
      "outputs": []
    },
    {
      "cell_type": "code",
      "metadata": {
        "id": "Cpq2y1ZaFwIN",
        "colab_type": "code",
        "colab": {}
      },
      "source": [
        "def print_brothers_sisters(name, **siblings):\n",
        "    print(name, \"has the following siblings:\")\n",
        "    for sibling in siblings:\n",
        "        print(sibling, \":\", siblings[sibling])\n",
        "    print()\n",
        "    \n",
        "print_brothers_sisters(\"John\", Ashley=\"sister\", Lauren=\"sister\", Arthur=\"brother\")"
      ],
      "execution_count": 0,
      "outputs": []
    },
    {
      "cell_type": "markdown",
      "metadata": {
        "id": "x9ks8WOONJU-",
        "colab_type": "text"
      },
      "source": [
        "Now let's do the same for the rows. Notice that since we have already parsed the header row, we will continue from the second row. The [1:] is a slice notation and in this case it means we want all values starting from the second position."
      ]
    },
    {
      "cell_type": "code",
      "metadata": {
        "id": "q_k-yHEcNLul",
        "colab_type": "code",
        "colab": {}
      },
      "source": [
        "indexes = [r.find(\"td\").get_text() for r in row[1:]]\n",
        "indexes"
      ],
      "execution_count": 0,
      "outputs": []
    },
    {
      "cell_type": "code",
      "metadata": {
        "id": "kPgfUd0CSqUh",
        "colab_type": "code",
        "colab": {}
      },
      "source": [
        "values = [rem_nl(value.get_text()) for r in row[1:] for value in r.find_all(\"td\")]\n",
        "s = values[1:len(values):2]\n",
        "s"
      ],
      "execution_count": 0,
      "outputs": []
    },
    {
      "cell_type": "code",
      "metadata": {
        "id": "yLNkadbLT3oi",
        "colab_type": "code",
        "outputId": "d6279e6b-25cd-4786-93ea-fbf32469fceb",
        "colab": {
          "base_uri": "https://localhost:8080/",
          "height": 34
        }
      },
      "source": [
        "stacked_values = zip(*[s[i::3] for i in range(len(r))])\n",
        "stacked_values\n"
      ],
      "execution_count": 0,
      "outputs": [
        {
          "output_type": "execute_result",
          "data": {
            "text/plain": [
              "<zip at 0x7f60df498688>"
            ]
          },
          "metadata": {
            "tags": []
          },
          "execution_count": 250
        }
      ]
    },
    {
      "cell_type": "code",
      "metadata": {
        "id": "X5HaHwImVEGr",
        "colab_type": "code",
        "colab": {}
      },
      "source": [
        "to_num = lambda s:s[-1] ==\"\" and int(s[-1]) or None\n",
        "to_num"
      ],
      "execution_count": 0,
      "outputs": []
    },
    {
      "cell_type": "code",
      "metadata": {
        "id": "whR7kqGlQnWg",
        "colab_type": "code",
        "colab": {}
      },
      "source": [
        "HTML(table_html)"
      ],
      "execution_count": 0,
      "outputs": []
    },
    {
      "cell_type": "code",
      "metadata": {
        "id": "hbd6Kks4Vzjz",
        "colab_type": "code",
        "colab": {}
      },
      "source": [
        "def print_args(arg1, arg2, arg3):\n",
        "    print(arg1, arg2, arg3,\"hai\")\n",
        "\n",
        "# Print three numbers.\n",
        "print_args(1, 2, 3)\n",
        "\n",
        "# Print three lists.\n",
        "print_args([1, 10], [2, 20], [3, 30])"
      ],
      "execution_count": 0,
      "outputs": []
    },
    {
      "cell_type": "code",
      "metadata": {
        "id": "4ksDNzeaWGUo",
        "colab_type": "code",
        "colab": {}
      },
      "source": [
        "parameters = [100, 200, 300]\n",
        "\n",
        "p1 = parameters[0]\n",
        "p2 = parameters[1]\n",
        "p3 = parameters[2]\n",
        "\n",
        "print_args(p1, p2, p3)"
      ],
      "execution_count": 0,
      "outputs": []
    },
    {
      "cell_type": "code",
      "metadata": {
        "id": "3efhOkaUWSyg",
        "colab_type": "code",
        "colab": {}
      },
      "source": [
        "p4, p5, p6 = parameters\n",
        "\n",
        "print_args(p4, p5, p6) \n"
      ],
      "execution_count": 0,
      "outputs": []
    },
    {
      "cell_type": "code",
      "metadata": {
        "id": "xjMaP9nAWm8h",
        "colab_type": "code",
        "colab": {}
      },
      "source": [
        "print_args(*parameters)"
      ],
      "execution_count": 0,
      "outputs": []
    },
    {
      "cell_type": "code",
      "metadata": {
        "id": "ATrUrsM7Yw2F",
        "colab_type": "code",
        "colab": {}
      },
      "source": [
        "{ind: value for ind, value in zip(indexes, s)}\n"
      ],
      "execution_count": 0,
      "outputs": []
    },
    {
      "cell_type": "code",
      "metadata": {
        "id": "RQIf2-wuZB7T",
        "colab_type": "code",
        "colab": {}
      },
      "source": [
        "column1 = []\n",
        "column1 = r[0]\n",
        "\n",
        "df = pd.DataFrame(s, columns=[\"Ranking\"], index=indexes)\n",
        "df\n",
        "#print(len(r),len(s),len(indexes))\n",
        "df\n"
      ],
      "execution_count": 0,
      "outputs": []
    },
    {
      "cell_type": "code",
      "metadata": {
        "id": "T_RWWq-dbvGq",
        "colab_type": "code",
        "colab": {}
      },
      "source": [
        "stacked_by_col = [s[i::3] for i in range(len(r))]\n",
        "stacked_by_col"
      ],
      "execution_count": 0,
      "outputs": []
    },
    {
      "cell_type": "code",
      "metadata": {
        "id": "1PSEzPH7cA6N",
        "colab_type": "code",
        "colab": {}
      },
      "source": [
        "data_lists = {col: val for col, val in zip(r, stacked_by_col)}\n",
        "data_lists"
      ],
      "execution_count": 0,
      "outputs": []
    },
    {
      "cell_type": "code",
      "metadata": {
        "id": "97W3IXoIcOIc",
        "colab_type": "code",
        "colab": {}
      },
      "source": [
        "df.dtypes\n"
      ],
      "execution_count": 0,
      "outputs": []
    },
    {
      "cell_type": "code",
      "metadata": {
        "id": "-Xqm7cqkcUtn",
        "colab_type": "code",
        "colab": {}
      },
      "source": [
        "df.dropna()"
      ],
      "execution_count": 0,
      "outputs": []
    },
    {
      "cell_type": "code",
      "metadata": {
        "id": "U4nMNUmrcYzq",
        "colab_type": "code",
        "colab": {}
      },
      "source": [
        "df.dropna(axis=0)\n"
      ],
      "execution_count": 0,
      "outputs": []
    },
    {
      "cell_type": "code",
      "metadata": {
        "id": "Fzb0ZwYfcsGI",
        "colab_type": "code",
        "colab": {}
      },
      "source": [
        "df_clean = df.fillna(0).astype(int)\n",
        "df_clean"
      ],
      "execution_count": 0,
      "outputs": []
    },
    {
      "cell_type": "code",
      "metadata": {
        "id": "Qjss_Z5gpSey",
        "colab_type": "code",
        "colab": {}
      },
      "source": [
        "df_clean.describe()"
      ],
      "execution_count": 0,
      "outputs": []
    },
    {
      "cell_type": "code",
      "metadata": {
        "id": "GDw_-NYDcvyp",
        "colab_type": "code",
        "colab": {}
      },
      "source": [
        "df_clean.dtypes"
      ],
      "execution_count": 0,
      "outputs": []
    },
    {
      "cell_type": "code",
      "metadata": {
        "id": "r4ix8-zWc-d2",
        "colab_type": "code",
        "colab": {}
      },
      "source": [
        "df_clean.values"
      ],
      "execution_count": 0,
      "outputs": []
    },
    {
      "cell_type": "code",
      "metadata": {
        "id": "7pXlKLReeATG",
        "colab_type": "code",
        "colab": {}
      },
      "source": [
        "type(df_clean.values)"
      ],
      "execution_count": 0,
      "outputs": []
    },
    {
      "cell_type": "code",
      "metadata": {
        "id": "zKZ3hGT3ekTJ",
        "colab_type": "code",
        "colab": {}
      },
      "source": [
        "np.mean(df_clean.Ranking)"
      ],
      "execution_count": 0,
      "outputs": []
    },
    {
      "cell_type": "code",
      "metadata": {
        "id": "qVOvT3Eaerir",
        "colab_type": "code",
        "colab": {}
      },
      "source": [
        "np.std(df_clean)"
      ],
      "execution_count": 0,
      "outputs": []
    },
    {
      "cell_type": "code",
      "metadata": {
        "id": "hk_jvwaYer1J",
        "colab_type": "code",
        "colab": {}
      },
      "source": [
        "df_clean['Ranking']"
      ],
      "execution_count": 0,
      "outputs": []
    },
    {
      "cell_type": "code",
      "metadata": {
        "id": "TIEsMB5rf5ZR",
        "colab_type": "code",
        "colab": {}
      },
      "source": [
        "df_clean.Ranking"
      ],
      "execution_count": 0,
      "outputs": []
    },
    {
      "cell_type": "code",
      "metadata": {
        "id": "odqfEaOvgFRn",
        "colab_type": "code",
        "colab": {}
      },
      "source": [
        "df_clean.loc[\"Business\"]"
      ],
      "execution_count": 0,
      "outputs": []
    },
    {
      "cell_type": "code",
      "metadata": {
        "id": "_EKnUHr-gLAA",
        "colab_type": "code",
        "colab": {}
      },
      "source": [
        "df_clean.iloc[0]"
      ],
      "execution_count": 0,
      "outputs": []
    },
    {
      "cell_type": "code",
      "metadata": {
        "id": "KZnXz1u4gckh",
        "colab_type": "code",
        "colab": {}
      },
      "source": [
        "df_clean.ix[\"Business\"]"
      ],
      "execution_count": 0,
      "outputs": []
    },
    {
      "cell_type": "code",
      "metadata": {
        "id": "i9HAr5kygnFn",
        "colab_type": "code",
        "colab": {}
      },
      "source": [
        "df_flat = df_clean.stack().reset_index()\n",
        "df_flat.columns = [\"race\", \"Ranking\", \"percentage\"]\n",
        "df_flat"
      ],
      "execution_count": 0,
      "outputs": []
    },
    {
      "cell_type": "code",
      "metadata": {
        "id": "8V7Tiid2hHFP",
        "colab_type": "code",
        "colab": {
          "base_uri": "https://localhost:8080/",
          "height": 34
        },
        "outputId": "998012a3-9116-4d5e-95a8-047a05274417"
      },
      "source": [
        "grouped = df_flat.groupby(\"race\")\n",
        "grouped.groups\n",
        "type(grouped)\n",
        "mean_percs = grouped.mean()\n",
        "mean_percs\n",
        "type(mean_percs)"
      ],
      "execution_count": 338,
      "outputs": [
        {
          "output_type": "execute_result",
          "data": {
            "text/plain": [
              "pandas.core.frame.DataFrame"
            ]
          },
          "metadata": {
            "tags": []
          },
          "execution_count": 338
        }
      ]
    },
    {
      "cell_type": "code",
      "metadata": {
        "id": "NA_JBx3sidSS",
        "colab_type": "code",
        "colab": {
          "base_uri": "https://localhost:8080/",
          "height": 389
        },
        "outputId": "2a8e3d2c-8abb-4704-8d84-812f6fc062cb"
      },
      "source": [
        "mean_percs.plot(kind=\"bar\");"
      ],
      "execution_count": 341,
      "outputs": [
        {
          "output_type": "display_data",
          "data": {
            "image/png": "[encoded data removed]",
            "text/plain": [
              "<Figure size 432x288 with 1 Axes>"
            ]
          },
          "metadata": {
            "tags": []
          }
        }
      ]
    }
  ]
}